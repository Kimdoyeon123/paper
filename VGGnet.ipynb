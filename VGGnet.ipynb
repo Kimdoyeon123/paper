{
  "nbformat": 4,
  "nbformat_minor": 0,
  "metadata": {
    "colab": {
      "provenance": [],
      "include_colab_link": true
    },
    "kernelspec": {
      "name": "python3",
      "display_name": "Python 3"
    },
    "language_info": {
      "name": "python"
    }
  },
  "cells": [
    {
      "cell_type": "markdown",
      "metadata": {
        "id": "view-in-github",
        "colab_type": "text"
      },
      "source": [
        "<a href=\"https://colab.research.google.com/github/Kimdoyeon123/paper/blob/main/VGGnet.ipynb\" target=\"_parent\"><img src=\"https://colab.research.google.com/assets/colab-badge.svg\" alt=\"Open In Colab\"/></a>"
      ]
    },
    {
      "cell_type": "code",
      "source": [
        "import torch\n",
        "from torch import nn"
      ],
      "metadata": {
        "id": "OnRqxl1XPbW2"
      },
      "execution_count": null,
      "outputs": []
    },
    {
      "cell_type": "code",
      "execution_count": 4,
      "metadata": {
        "id": "hLSAuna7PYHB"
      },
      "outputs": [],
      "source": [
        "cfgs = { \"A\": [64, \"M\", 128, \"M\", 256, 256, \"M\", 512, 512, \"M\", 512, 512, \"M\"],\n",
        "         \"B\": [64, 64, \"M\", 128, 128, \"M\", 256, 256, \"M\", 512, 512, \"M\", 512, 512, \"M\"],\n",
        "         \"D\": [64, 64, \"M\", 128, 128, \"M\", 256, 256, 256, \"M\", 512, 512, 512, \"M\", 512, 512, 512, \"M\"],#64 => 64개의 특징을 뽑을거다. M => maxpooling\n",
        "         \"E\": [64, 64, \"M\", 128, 128, \"M\", 256, 256, 256, 256, \"M\", 512, 512, 512, 512, \"M\", 512, 512, 512, 512, \"M\"] }"
      ]
    },
    {
      "cell_type": "code",
      "source": [
        "class VGG(nn.Module):\n",
        "    def __init__(self, cfg, batch_norm, num_classes = 1000, init_weights = True, drop_p = 0.5):\n",
        "        super().__init__()\n",
        "\n",
        "        self.features = self.make_layers(cfg, batch_norm)#configure가 make_layers를 통과하여 논문과 같은 VGGnet을 생성함\n",
        "        self.avgpool = nn.AdaptiveAvgPool2d((7, 7)) # 7x7 이 되도록 avg pooling 하는 녀석(size와 stride를 알아서 구해줌), 이미지 크기가 달랐던 놈들도 adaptive avg pooling을 통과하게 해줌\n",
        "        self.classifier = nn.Sequential(nn.Linear(512 * 7 * 7, 4096), #마지막 FClayer부분\n",
        "                                        nn.ReLU(),\n",
        "                                        nn.Dropout(p=drop_p),\n",
        "                                        nn.Linear(4096, 4096),\n",
        "                                        nn.ReLU(),\n",
        "                                        nn.Dropout(p=drop_p),\n",
        "                                        nn.Linear(4096, num_classes))\n",
        "\n",
        "        if init_weights:\n",
        "            for m in self.modules():\n",
        "                if isinstance(m, nn.Conv2d):\n",
        "                    nn.init.kaiming_normal_(m.weight, mode=\"fan_out\", nonlinearity=\"relu\")\n",
        "                    if m.bias is not None:\n",
        "                        nn.init.constant_(m.bias, 0)\n",
        "                elif isinstance(m, nn.Linear):\n",
        "                    nn.init.normal_(m.weight, 0, 0.01)\n",
        "                    nn.init.constant_(m.bias, 0)\n",
        "\n",
        "    def forward(self, x):\n",
        "        x = self.features(x)\n",
        "        x = self.avgpool(x)\n",
        "        x = torch.flatten(x, 1)\n",
        "        x = self.classifier(x)\n",
        "        return x\n",
        "\n",
        "    def make_layers(self, cfg, batch_norm = False):\n",
        "        layers = []\n",
        "        in_channels = 3\n",
        "        for v in cfg: # cfg = [64, 64, \"M\", 128, 128, \"M\", 256, 256, 256, \"M\", 512, 512, 512, \"M\", 512, 512, 512, \"M\"]\n",
        "            if type(v) == int:\n",
        "                if batch_norm:\n",
        "                    layers += [nn.Conv2d(in_channels, v, 3, padding=1), # 어차피 BN에 bias 포함\n",
        "                               nn.BatchNorm2d(v),\n",
        "                               nn.ReLU()]\n",
        "                else:\n",
        "                    layers += [nn.Conv2d(in_channels, v, 3, padding=1),\n",
        "                               nn.ReLU()]\n",
        "                in_channels = v\n",
        "            else:\n",
        "                layers += [nn.MaxPool2d(2)]\n",
        "\n",
        "        return nn.Sequential(*layers)"
      ],
      "metadata": {
        "id": "C6E4BgO0QcZt"
      },
      "execution_count": 3,
      "outputs": []
    },
    {
      "cell_type": "code",
      "source": [
        "avgpool = nn.AdaptiveAvgPool2d((4, 4))\n",
        "print(avgpool(torch.randn(2,3,32,32)).shape)\n",
        "x = torch.randn(2,3,2,2)\n",
        "print(avgpool(x)) # 작은 놈이 들어오면 늘려서라도 맞춰준다 # 값을 복제 시켜놓음"
      ],
      "metadata": {
        "colab": {
          "base_uri": "https://localhost:8080/"
        },
        "id": "oa1xtOB6oFuo",
        "outputId": "de95967d-a24c-44c8-d6a8-5b97df2b5dd7"
      },
      "execution_count": 5,
      "outputs": [
        {
          "output_type": "stream",
          "name": "stdout",
          "text": [
            "torch.Size([2, 3, 4, 4])\n",
            "tensor([[[[ 1.1950,  1.1950, -0.8409, -0.8409],\n",
            "          [ 1.1950,  1.1950, -0.8409, -0.8409],\n",
            "          [ 0.6689,  0.6689,  0.7605,  0.7605],\n",
            "          [ 0.6689,  0.6689,  0.7605,  0.7605]],\n",
            "\n",
            "         [[-0.3685, -0.3685,  1.1204,  1.1204],\n",
            "          [-0.3685, -0.3685,  1.1204,  1.1204],\n",
            "          [ 0.5910,  0.5910,  0.6427,  0.6427],\n",
            "          [ 0.5910,  0.5910,  0.6427,  0.6427]],\n",
            "\n",
            "         [[-0.0317, -0.0317,  2.0284,  2.0284],\n",
            "          [-0.0317, -0.0317,  2.0284,  2.0284],\n",
            "          [ 1.7041,  1.7041, -1.3986, -1.3986],\n",
            "          [ 1.7041,  1.7041, -1.3986, -1.3986]]],\n",
            "\n",
            "\n",
            "        [[[-1.1817, -1.1817,  0.3547,  0.3547],\n",
            "          [-1.1817, -1.1817,  0.3547,  0.3547],\n",
            "          [-1.1686, -1.1686,  1.1968,  1.1968],\n",
            "          [-1.1686, -1.1686,  1.1968,  1.1968]],\n",
            "\n",
            "         [[-0.6231, -0.6231,  0.5418,  0.5418],\n",
            "          [-0.6231, -0.6231,  0.5418,  0.5418],\n",
            "          [-1.2266, -1.2266,  0.4504,  0.4504],\n",
            "          [-1.2266, -1.2266,  0.4504,  0.4504]],\n",
            "\n",
            "         [[-0.3099, -0.3099, -0.7821, -0.7821],\n",
            "          [-0.3099, -0.3099, -0.7821, -0.7821],\n",
            "          [-0.9402, -0.9402, -0.7544, -0.7544],\n",
            "          [-0.9402, -0.9402, -0.7544, -0.7544]]]])\n"
          ]
        }
      ]
    },
    {
      "cell_type": "code",
      "source": [
        "model = nn.Sequential(nn.Linear(2,2),\n",
        "                      nn.ReLU(),\n",
        "                      nn.Sequential(nn.Linear(2,3),\n",
        "                                    nn.ReLU(),\n",
        "                                    nn.Linear(3,3),\n",
        "                                    nn.ReLU()),\n",
        "                      nn.Linear(3,10))\n",
        "[m for m in model.modules()]"
      ],
      "metadata": {
        "colab": {
          "base_uri": "https://localhost:8080/"
        },
        "id": "iNSOhB1Ah030",
        "outputId": "2343148c-fe1b-40fb-cca4-2669353321ac"
      },
      "execution_count": null,
      "outputs": [
        {
          "output_type": "execute_result",
          "data": {
            "text/plain": [
              "[Sequential(\n",
              "   (0): Linear(in_features=2, out_features=2, bias=True)\n",
              "   (1): ReLU()\n",
              "   (2): Sequential(\n",
              "     (0): Linear(in_features=2, out_features=3, bias=True)\n",
              "     (1): ReLU()\n",
              "     (2): Linear(in_features=3, out_features=3, bias=True)\n",
              "     (3): ReLU()\n",
              "   )\n",
              "   (3): Linear(in_features=3, out_features=10, bias=True)\n",
              " ),\n",
              " Linear(in_features=2, out_features=2, bias=True),\n",
              " ReLU(),\n",
              " Sequential(\n",
              "   (0): Linear(in_features=2, out_features=3, bias=True)\n",
              "   (1): ReLU()\n",
              "   (2): Linear(in_features=3, out_features=3, bias=True)\n",
              "   (3): ReLU()\n",
              " ),\n",
              " Linear(in_features=2, out_features=3, bias=True),\n",
              " ReLU(),\n",
              " Linear(in_features=3, out_features=3, bias=True),\n",
              " ReLU(),\n",
              " Linear(in_features=3, out_features=10, bias=True)]"
            ]
          },
          "metadata": {},
          "execution_count": 72
        }
      ]
    },
    {
      "cell_type": "code",
      "source": [
        "# model1 = nn.Sequential([nn.Linear(1,1),\n",
        "#                        nn.Linear(1,1)]) # 리스트를 넣으면 안돼요!\n",
        "\n",
        "model2 = nn.Sequential(nn.Linear(1,1),\n",
        "                       nn.Linear(1,1))\n",
        "\n",
        "# print(*[1,2])\n",
        "# print([1,2])\n",
        "\n",
        "# model3 = nn.Sequential(nn.Linear(1,1),\n",
        "#                         nn.Linear(1,1))"
      ],
      "metadata": {
        "id": "oc8lzg4XfnU_"
      },
      "execution_count": 6,
      "outputs": []
    },
    {
      "cell_type": "code",
      "source": [
        "model = VGG(cfgs[\"E\"], batch_norm=True)\n",
        "# print(model)\n",
        "!pip install torchinfo\n",
        "from torchinfo import summary\n",
        "summary(model, input_size=(2,3,224,224), device='cpu')"
      ],
      "metadata": {
        "colab": {
          "base_uri": "https://localhost:8080/"
        },
        "id": "hvG7IvI5jHpD",
        "outputId": "c418a997-6632-42d1-b9c7-327b3dd7809c"
      },
      "execution_count": 7,
      "outputs": [
        {
          "output_type": "stream",
          "name": "stdout",
          "text": [
            "Collecting torchinfo\n",
            "  Downloading torchinfo-1.8.0-py3-none-any.whl.metadata (21 kB)\n",
            "Downloading torchinfo-1.8.0-py3-none-any.whl (23 kB)\n",
            "Installing collected packages: torchinfo\n",
            "Successfully installed torchinfo-1.8.0\n"
          ]
        },
        {
          "output_type": "execute_result",
          "data": {
            "text/plain": [
              "==========================================================================================\n",
              "Layer (type:depth-idx)                   Output Shape              Param #\n",
              "==========================================================================================\n",
              "VGG                                      [2, 1000]                 --\n",
              "├─Sequential: 1-1                        [2, 512, 7, 7]            --\n",
              "│    └─Conv2d: 2-1                       [2, 64, 224, 224]         1,792\n",
              "│    └─BatchNorm2d: 2-2                  [2, 64, 224, 224]         128\n",
              "│    └─ReLU: 2-3                         [2, 64, 224, 224]         --\n",
              "│    └─Conv2d: 2-4                       [2, 64, 224, 224]         36,928\n",
              "│    └─BatchNorm2d: 2-5                  [2, 64, 224, 224]         128\n",
              "│    └─ReLU: 2-6                         [2, 64, 224, 224]         --\n",
              "│    └─MaxPool2d: 2-7                    [2, 64, 112, 112]         --\n",
              "│    └─Conv2d: 2-8                       [2, 128, 112, 112]        73,856\n",
              "│    └─BatchNorm2d: 2-9                  [2, 128, 112, 112]        256\n",
              "│    └─ReLU: 2-10                        [2, 128, 112, 112]        --\n",
              "│    └─Conv2d: 2-11                      [2, 128, 112, 112]        147,584\n",
              "│    └─BatchNorm2d: 2-12                 [2, 128, 112, 112]        256\n",
              "│    └─ReLU: 2-13                        [2, 128, 112, 112]        --\n",
              "│    └─MaxPool2d: 2-14                   [2, 128, 56, 56]          --\n",
              "│    └─Conv2d: 2-15                      [2, 256, 56, 56]          295,168\n",
              "│    └─BatchNorm2d: 2-16                 [2, 256, 56, 56]          512\n",
              "│    └─ReLU: 2-17                        [2, 256, 56, 56]          --\n",
              "│    └─Conv2d: 2-18                      [2, 256, 56, 56]          590,080\n",
              "│    └─BatchNorm2d: 2-19                 [2, 256, 56, 56]          512\n",
              "│    └─ReLU: 2-20                        [2, 256, 56, 56]          --\n",
              "│    └─Conv2d: 2-21                      [2, 256, 56, 56]          590,080\n",
              "│    └─BatchNorm2d: 2-22                 [2, 256, 56, 56]          512\n",
              "│    └─ReLU: 2-23                        [2, 256, 56, 56]          --\n",
              "│    └─Conv2d: 2-24                      [2, 256, 56, 56]          590,080\n",
              "│    └─BatchNorm2d: 2-25                 [2, 256, 56, 56]          512\n",
              "│    └─ReLU: 2-26                        [2, 256, 56, 56]          --\n",
              "│    └─MaxPool2d: 2-27                   [2, 256, 28, 28]          --\n",
              "│    └─Conv2d: 2-28                      [2, 512, 28, 28]          1,180,160\n",
              "│    └─BatchNorm2d: 2-29                 [2, 512, 28, 28]          1,024\n",
              "│    └─ReLU: 2-30                        [2, 512, 28, 28]          --\n",
              "│    └─Conv2d: 2-31                      [2, 512, 28, 28]          2,359,808\n",
              "│    └─BatchNorm2d: 2-32                 [2, 512, 28, 28]          1,024\n",
              "│    └─ReLU: 2-33                        [2, 512, 28, 28]          --\n",
              "│    └─Conv2d: 2-34                      [2, 512, 28, 28]          2,359,808\n",
              "│    └─BatchNorm2d: 2-35                 [2, 512, 28, 28]          1,024\n",
              "│    └─ReLU: 2-36                        [2, 512, 28, 28]          --\n",
              "│    └─Conv2d: 2-37                      [2, 512, 28, 28]          2,359,808\n",
              "│    └─BatchNorm2d: 2-38                 [2, 512, 28, 28]          1,024\n",
              "│    └─ReLU: 2-39                        [2, 512, 28, 28]          --\n",
              "│    └─MaxPool2d: 2-40                   [2, 512, 14, 14]          --\n",
              "│    └─Conv2d: 2-41                      [2, 512, 14, 14]          2,359,808\n",
              "│    └─BatchNorm2d: 2-42                 [2, 512, 14, 14]          1,024\n",
              "│    └─ReLU: 2-43                        [2, 512, 14, 14]          --\n",
              "│    └─Conv2d: 2-44                      [2, 512, 14, 14]          2,359,808\n",
              "│    └─BatchNorm2d: 2-45                 [2, 512, 14, 14]          1,024\n",
              "│    └─ReLU: 2-46                        [2, 512, 14, 14]          --\n",
              "│    └─Conv2d: 2-47                      [2, 512, 14, 14]          2,359,808\n",
              "│    └─BatchNorm2d: 2-48                 [2, 512, 14, 14]          1,024\n",
              "│    └─ReLU: 2-49                        [2, 512, 14, 14]          --\n",
              "│    └─Conv2d: 2-50                      [2, 512, 14, 14]          2,359,808\n",
              "│    └─BatchNorm2d: 2-51                 [2, 512, 14, 14]          1,024\n",
              "│    └─ReLU: 2-52                        [2, 512, 14, 14]          --\n",
              "│    └─MaxPool2d: 2-53                   [2, 512, 7, 7]            --\n",
              "├─AdaptiveAvgPool2d: 1-2                 [2, 512, 7, 7]            --\n",
              "├─Sequential: 1-3                        [2, 1000]                 --\n",
              "│    └─Linear: 2-54                      [2, 4096]                 102,764,544\n",
              "│    └─ReLU: 2-55                        [2, 4096]                 --\n",
              "│    └─Dropout: 2-56                     [2, 4096]                 --\n",
              "│    └─Linear: 2-57                      [2, 4096]                 16,781,312\n",
              "│    └─ReLU: 2-58                        [2, 4096]                 --\n",
              "│    └─Dropout: 2-59                     [2, 4096]                 --\n",
              "│    └─Linear: 2-60                      [2, 1000]                 4,097,000\n",
              "==========================================================================================\n",
              "Total params: 143,678,248\n",
              "Trainable params: 143,678,248\n",
              "Non-trainable params: 0\n",
              "Total mult-adds (G): 39.29\n",
              "==========================================================================================\n",
              "Input size (MB): 1.20\n",
              "Forward/backward pass size (MB): 475.41\n",
              "Params size (MB): 574.71\n",
              "Estimated Total Size (MB): 1051.33\n",
              "=========================================================================================="
            ]
          },
          "metadata": {},
          "execution_count": 7
        }
      ]
    },
    {
      "cell_type": "code",
      "source": [
        "x = torch.randn(2,3,224,224)\n",
        "print(model(x).shape)"
      ],
      "metadata": {
        "colab": {
          "base_uri": "https://localhost:8080/"
        },
        "id": "kRIMzNHikwjp",
        "outputId": "bca92679-d96a-46cc-ff4d-3ff70f259a5a"
      },
      "execution_count": null,
      "outputs": [
        {
          "output_type": "stream",
          "name": "stdout",
          "text": [
            "torch.Size([2, 1000])\n"
          ]
        }
      ]
    },
    {
      "cell_type": "code",
      "source": [
        "x = torch.randn(2,3,300,300)\n",
        "print(model(x).shape)"
      ],
      "metadata": {
        "colab": {
          "base_uri": "https://localhost:8080/"
        },
        "id": "1vA8PYXffDbX",
        "outputId": "9b702867-44e9-4583-b50c-ce151f51ad3e"
      },
      "execution_count": null,
      "outputs": [
        {
          "output_type": "stream",
          "name": "stdout",
          "text": [
            "torch.Size([2, 1000])\n"
          ]
        }
      ]
    },
    {
      "cell_type": "code",
      "source": [
        "x = torch.randn(2,3,32,32)\n",
        "print(model(x).shape)"
      ],
      "metadata": {
        "colab": {
          "base_uri": "https://localhost:8080/"
        },
        "id": "BodeeTqUfFfO",
        "outputId": "0d074d67-2942-46b9-f102-7a7741cbb0cd"
      },
      "execution_count": null,
      "outputs": [
        {
          "output_type": "stream",
          "name": "stdout",
          "text": [
            "torch.Size([2, 1000])\n"
          ]
        }
      ]
    }
  ]
}